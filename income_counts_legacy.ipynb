{
  "nbformat": 4,
  "nbformat_minor": 0,
  "metadata": {
    "colab": {
      "name": "income_counts_legacy.ipynb",
      "cell_execution_strategy": "setup",
      "provenance": []
    },
    "kernelspec": {
      "name": "python3",
      "display_name": "Python 3"
    },
    "language_info": {
      "name": "python"
    }
  },
  "cells": [
    {
      "cell_type": "code",
      "source": [
        "from google.cloud import bigquery\n",
        "\n",
        "client = bigquery.Client(project=\"prod-organize-arizon-4e1c0a83\")\n",
        "\n",
        "query = \"\"\"\n",
        "SELECT\n",
        "  c.county,\n",
        "  c.pctnum,\n",
        "  b.congressionaldistrict,\n",
        "  b.statehousedistrict,\n",
        "  a.catalistmodel_income_bin,\n",
        "  COUNT(a.dwid) AS DWIDS\n",
        "FROM `proj-tmc-mem-mvp.catalist_cleaned.cln_catalist__models` as a\n",
        "LEFT JOIN `proj-tmc-mem-mvp.catalist_cleaned.cln_catalist__district` as b\n",
        "  ON a.dwid = b.dwid\n",
        "INNER JOIN `prod-organize-arizon-4e1c0a83.rich_christina_proj.catalist_pctnum_crosswalk_native` as c\n",
        "  ON b.uniqueprecinctcode = c.uniqueprecinctcode\n",
        "WHERE b.state = \"AZ\"\n",
        "GROUP BY 1, 2, 3, 4, 5\n",
        "\"\"\"\n",
        "\n",
        "# Runs query and returns pandas DataFrame\n",
        "results_df = client.query(query).to_dataframe()\n"
      ],
      "metadata": {
        "id": "KduNycqmcSDq"
      },
      "execution_count": null,
      "outputs": []
    },
    {
      "cell_type": "code",
      "source": [
        "results_df.head()"
      ],
      "metadata": {
        "id": "aH-GONEWcSxt"
      },
      "execution_count": null,
      "outputs": []
    },
    {
      "cell_type": "code",
      "source": [
        "pivot_income_df = results_df.pivot_table(\n",
        "    index=['pctnum', 'county', 'congressionaldistrict', 'statehousedistrict'],\n",
        "    columns='catalistmodel_income_bin',\n",
        "    values='DWIDS',\n",
        "    fill_value=0\n",
        ").astype(int).reset_index()\n",
        "\n",
        "pivot_income_df.head()"
      ],
      "metadata": {
        "id": "zSgj9utxcVHt"
      },
      "execution_count": null,
      "outputs": []
    },
    {
      "cell_type": "code",
      "source": [
        "# Reorder columns\n",
        "income_order = [\n",
        "    'Less than $20,000',\n",
        "    '$20,000 - $30,000',\n",
        "    '$30,000 - $50,000',\n",
        "    '$50,000 - $75,000',\n",
        "    '$75,000 - $100,000',\n",
        "    '$100,000 - $150,000',\n",
        "    'Greater than $150,000'\n",
        "]\n",
        "index_cols = ['pctnum', 'county', 'congressionaldistrict', 'statehousedistrict']\n",
        "pivot_df = pivot_income_df[index_cols + income_order]\n",
        "\n",
        "# Sanitize column names for BigQuery\n",
        "pivot_df.columns = (\n",
        "    pivot_df.columns\n",
        "    .str.replace(r'[^\\w]+', '_', regex=True)\n",
        "    .str.strip('_')\n",
        "    .str.lower()\n",
        ")\n",
        "\n",
        "\n",
        "\n",
        "pivot_df.head()"
      ],
      "metadata": {
        "id": "n_mXqdurcab0"
      },
      "execution_count": null,
      "outputs": []
    },
    {
      "cell_type": "code",
      "source": [
        "from pandas_gbq import to_gbq\n",
        "\n",
        "# Replace with your actual project and temp dataset\n",
        "project_id = \"prod-organize-arizon-4e1c0a83\"\n",
        "dataset_table = \"rich_christina_proj.income_counts_pivot\"  # dataset.table\n",
        "\n",
        "# Upload DataFrame to BigQuery\n",
        "to_gbq(\n",
        "    pivot_df,\n",
        "    destination_table=dataset_table,\n",
        "    project_id=project_id,\n",
        "    if_exists='replace'  # or 'append'\n",
        ")\n"
      ],
      "metadata": {
        "id": "fREBwKzEcbSg"
      },
      "execution_count": null,
      "outputs": []
    }
  ]
}