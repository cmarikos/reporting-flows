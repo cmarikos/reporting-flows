{
  "nbformat": 4,
  "nbformat_minor": 0,
  "metadata": {
    "colab": {
      "name": "age_counts_pivot_legacy.ipynb",
      "cell_execution_strategy": "setup",
      "provenance": []
    },
    "kernelspec": {
      "name": "python3",
      "display_name": "Python 3"
    },
    "language_info": {
      "name": "python"
    }
  },
  "cells": [
    {
      "cell_type": "code",
      "source": [
        "from google.cloud import bigquery\n",
        "\n",
        "client = bigquery.Client(project=\"prod-organize-arizon-4e1c0a83\")\n",
        "\n",
        "#big frames lets you write SQL queries then transform output data with python\n",
        "query = \"\"\"\n",
        "SELECT\n",
        "c.pctnum\n",
        ", c.county\n",
        ", b.congressionaldistrict\n",
        ", b.statehousedistrict\n",
        ", CASE\n",
        "    WHEN a.age < 18 THEN \"under 18\"\n",
        "    WHEN a.age BETWEEN 18 AND 24 THEN \"18-24\"\n",
        "    WHEN a.age BETWEEN 25 AND 34 THEN \"25-34\"\n",
        "    WHEN a.age BETWEEN 35 AND 44 THEN \"35-44\"\n",
        "    WHEN a.age BETWEEN 45 AND 54 THEN \"45-54\"\n",
        "    WHEN a.age BETWEEN 55 AND 64 THEN \"55-64\"\n",
        "    WHEN a.age >= 65 THEN \"65+\"\n",
        "    ELSE NULL\n",
        "  END AS Age_Buckets\n",
        ", COUNT(a.dwid) AS DWIDS\n",
        "FROM `proj-tmc-mem-mvp.catalist_enhanced.enh_catalist__ntl_current` AS a\n",
        "LEFT JOIN `proj-tmc-mem-mvp.catalist_cleaned.cln_catalist__district` AS b\n",
        "  ON a.dwid = b.dwid\n",
        "INNER JOIN `prod-organize-arizon-4e1c0a83.rich_christina_proj.catalist_pctnum_crosswalk_native` AS c\n",
        "  ON b.uniqueprecinctcode = c.uniqueprecinctcode\n",
        "WHERE b.state = \"AZ\"\n",
        "GROUP BY 1, 2, 3, 4, 5\n",
        "ORDER BY 1\n",
        "\"\"\"\n",
        "\n",
        "# Runs query and returns pandas DataFrame\n",
        "results_df = client.query(query).to_dataframe()"
      ],
      "metadata": {
        "id": "iMGbrCwCaX4w",
        "executionInfo": {
          "status": "ok",
          "timestamp": 1753813444818,
          "user_tz": 420,
          "elapsed": 4580,
          "user": {
            "displayName": "",
            "userId": ""
          }
        }
      },
      "execution_count": 1,
      "outputs": []
    },
    {
      "cell_type": "code",
      "source": [
        "results_df.head()"
      ],
      "metadata": {
        "id": "A1ymwu5gabep"
      },
      "execution_count": null,
      "outputs": []
    },
    {
      "cell_type": "code",
      "source": [
        "pivot_age_df = results_df.pivot_table(\n",
        "    index=['pctnum', 'county', 'congressionaldistrict', 'statehousedistrict'],\n",
        "    columns='Age_Buckets',\n",
        "    values='DWIDS',\n",
        "    fill_value=0\n",
        ").astype(int).reset_index()\n",
        "\n",
        "pivot_age_df.head()"
      ],
      "metadata": {
        "id": "eD-fgaXYajhv"
      },
      "execution_count": null,
      "outputs": []
    },
    {
      "cell_type": "code",
      "source": [
        "# Reorder columns\n",
        "age_order = [\n",
        "    'under 18',\n",
        "    '18-24',\n",
        "    '25-34',\n",
        "    '35-44',\n",
        "    '45-54',\n",
        "    '55-64',\n",
        "    '65+'\n",
        "]\n",
        "index_cols = ['pctnum', 'county', 'congressionaldistrict', 'statehousedistrict']\n",
        "pivot_df = pivot_age_df[index_cols + age_order]\n",
        "\n",
        "# Sanitize column names for BigQuery\n",
        "pivot_df.columns = (\n",
        "    pivot_df.columns\n",
        "    .str.replace(r'[^\\w]+', '_', regex=True)\n",
        "    .str.strip('_')\n",
        "    .str.lower()\n",
        ")\n",
        "\n",
        "\n",
        "\n",
        "pivot_df.head()"
      ],
      "metadata": {
        "id": "osbwodNOa4m9"
      },
      "execution_count": null,
      "outputs": []
    },
    {
      "cell_type": "code",
      "source": [
        "from pandas_gbq import to_gbq\n",
        "\n",
        "project_id = \"prod-organize-arizon-4e1c0a83\"\n",
        "dataset_table = \"rich_christina_proj.age_counts_pivot\"  # dataset.table\n",
        "\n",
        "# Upload DataFrame to BigQuery\n",
        "to_gbq(\n",
        "    pivot_df,\n",
        "    destination_table=dataset_table,\n",
        "    project_id=project_id,\n",
        "    if_exists='replace'  # or 'append'\n",
        ")"
      ],
      "metadata": {
        "colab": {
          "base_uri": "https://localhost:8080/",
          "height": 216
        },
        "id": "wdbAfNFfbHly",
        "executionInfo": {
          "status": "error",
          "timestamp": 1753813444818,
          "user_tz": 420,
          "elapsed": 6,
          "user": {
            "displayName": "",
            "userId": ""
          }
        },
        "outputId": "8c97256f-4a24-47ee-c8d5-71fe96c1b679"
      },
      "execution_count": 2,
      "outputs": [
        {
          "output_type": "error",
          "ename": "NameError",
          "evalue": "name 'pivot_df' is not defined",
          "traceback": [
            "\u001b[0;31m---------------------------------------------------------------------------\u001b[0m",
            "\u001b[0;31mNameError\u001b[0m                                 Traceback (most recent call last)",
            "\u001b[0;32m<ipython-input-2-44717cd441a4>\u001b[0m in \u001b[0;36m<cell line: 8>\u001b[0;34m()\u001b[0m\n\u001b[1;32m      7\u001b[0m \u001b[0;31m# Upload DataFrame to BigQuery\u001b[0m\u001b[0;34m\u001b[0m\u001b[0;34m\u001b[0m\u001b[0m\n\u001b[1;32m      8\u001b[0m to_gbq(\n\u001b[0;32m----> 9\u001b[0;31m     \u001b[0mpivot_df\u001b[0m\u001b[0;34m,\u001b[0m\u001b[0;34m\u001b[0m\u001b[0;34m\u001b[0m\u001b[0m\n\u001b[0m\u001b[1;32m     10\u001b[0m     \u001b[0mdestination_table\u001b[0m\u001b[0;34m=\u001b[0m\u001b[0mdataset_table\u001b[0m\u001b[0;34m,\u001b[0m\u001b[0;34m\u001b[0m\u001b[0;34m\u001b[0m\u001b[0m\n\u001b[1;32m     11\u001b[0m     \u001b[0mproject_id\u001b[0m\u001b[0;34m=\u001b[0m\u001b[0mproject_id\u001b[0m\u001b[0;34m,\u001b[0m\u001b[0;34m\u001b[0m\u001b[0;34m\u001b[0m\u001b[0m\n",
            "\u001b[0;31mNameError\u001b[0m: name 'pivot_df' is not defined"
          ]
        }
      ]
    }
  ]
}