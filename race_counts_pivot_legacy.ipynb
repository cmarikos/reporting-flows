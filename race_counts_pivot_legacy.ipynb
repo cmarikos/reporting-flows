{
  "nbformat": 4,
  "nbformat_minor": 0,
  "metadata": {
    "colab": {
      "name": "race_counts_pivot_legacy.ipynb",
      "cell_execution_strategy": "setup",
      "provenance": []
    },
    "kernelspec": {
      "name": "python3",
      "display_name": "Python 3"
    },
    "language_info": {
      "name": "python"
    }
  },
  "cells": [
    {
      "cell_type": "code",
      "source": [
        "# This is another way to pull in your data for analysis using SQL by calling your query results\n",
        "%%bigquery results --project prod-organize-arizon-4e1c0a83\n",
        "SELECT\n",
        "  p.pctnum\n",
        "  , d.countyname\n",
        "  , n.race\n",
        "  , d.congressionaldistrict\n",
        "  , d.statehousedistrict\n",
        "  , COUNT(DISTINCT n.dwid) as people_count\n",
        "\n",
        "FROM `proj-tmc-mem-mvp.catalist_enhanced.enh_catalist__ntl_current` AS n\n",
        "\n",
        "LEFT JOIN `proj-tmc-mem-mvp.catalist_cleaned.cln_catalist__district` AS d\n",
        "  ON n.dwid = d.dwid\n",
        "\n",
        "INNER JOIN `prod-organize-arizon-4e1c0a83.rich_christina_proj.catalist_pctnum_crosswalk_native` AS p\n",
        "  ON d.uniqueprecinctcode = p.uniqueprecinctcode\n",
        "\n",
        "WHERE d.state = 'AZ'\n",
        "  AND p.pctnum IS NOT NULL\n",
        "\n",
        "\n",
        "GROUP BY 1,2,3,4,5\n",
        "\n",
        "ORDER BY 1,3"
      ],
      "metadata": {
        "id": "69k46BobcsC5"
      },
      "execution_count": null,
      "outputs": []
    },
    {
      "cell_type": "code",
      "source": [
        "bq_df = results"
      ],
      "metadata": {
        "id": "ldaDnUgzc2eU"
      },
      "execution_count": null,
      "outputs": []
    },
    {
      "cell_type": "code",
      "source": [
        "import bigframes.pandas as bf\n",
        "\n",
        "df = bq_df\n",
        "df.head(10)"
      ],
      "metadata": {
        "id": "0Ik8DSmWc4_Q"
      },
      "execution_count": null,
      "outputs": []
    },
    {
      "cell_type": "code",
      "source": [
        "pivot_df = df.pivot_table(\n",
        "    index=['pctnum', 'countyname', 'congressionaldistrict', 'statehousedistrict'],\n",
        "    columns='race',\n",
        "    values='people_count',\n",
        "    fill_value=0\n",
        ").astype(int).reset_index()\n",
        "\n",
        "pivot_df.head()"
      ],
      "metadata": {
        "id": "5gOaGNxoc9DS"
      },
      "execution_count": null,
      "outputs": []
    },
    {
      "cell_type": "code",
      "source": [
        "from pandas_gbq import to_gbq\n",
        "\n",
        "\n",
        "project_id = \"prod-organize-arizon-4e1c0a83\"\n",
        "dataset_table = \"rich_christina_proj.race_counts_pivot\"  # dataset.table\n",
        "\n",
        "# Upload DataFrame to BigQuery\n",
        "to_gbq(\n",
        "    pivot_df,\n",
        "    destination_table=dataset_table,\n",
        "    project_id=project_id,\n",
        "    if_exists='replace'  # or 'append'\n",
        ")\n"
      ],
      "metadata": {
        "id": "LnD9yGRJdGGE"
      },
      "execution_count": null,
      "outputs": []
    }
  ]
}