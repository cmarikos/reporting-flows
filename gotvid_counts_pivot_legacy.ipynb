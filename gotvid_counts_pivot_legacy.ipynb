{
  "nbformat": 4,
  "nbformat_minor": 0,
  "metadata": {
    "colab": {
      "name": "gotvid_counts_pivot_legacy.ipynb",
      "cell_execution_strategy": "setup",
      "provenance": []
    },
    "kernelspec": {
      "name": "python3",
      "display_name": "Python 3"
    },
    "language_info": {
      "name": "python"
    }
  },
  "cells": [
    {
      "cell_type": "code",
      "source": [
        "from google.cloud import bigquery\n",
        "\n",
        "client = bigquery.Client(project=\"prod-organize-arizon-4e1c0a83\")\n",
        "\n",
        "query = \"\"\"\n",
        "SELECT\n",
        "  c.pctnum\n",
        "  , c.county\n",
        "  , d.congressionaldistrict\n",
        "  , d.statehousedistrict\n",
        "  , sq.SurveyQuestionName\n",
        "\t, sr.SurveyResponseName\n",
        "  , COUNT(cw.DWID) AS response_count\n",
        "\n",
        "FROM `prod-organize-arizon-4e1c0a83.ngpvan.CTARAA_ContactsSurveyResponses_VF` AS cs\n",
        "\n",
        "LEFT JOIN `prod-organize-arizon-4e1c0a83.ngpvan.CTARAA_SurveyQuestions` AS sq\n",
        "\tON cs.SurveyQuestionID = sq.SurveyQuestionID\n",
        "\n",
        "LEFT JOIN `prod-organize-arizon-4e1c0a83.ngpvan.CTARAA_SurveyResponses` AS sr\n",
        "\tON cs.SurveyResponseID = sr.SurveyResponseID\n",
        "\n",
        "LEFT JOIN `prod-organize-arizon-4e1c0a83.raze_raza_dwid_to_van_id_crosswalk.dwid_vanid_crosswalk` AS cw\n",
        "  ON cs.VanID = cw.VanID\n",
        "\n",
        "LEFT JOIN `proj-tmc-mem-mvp.catalist_cleaned.cln_catalist__district` AS d\n",
        "  ON cw.DWID = d.dwid\n",
        "\n",
        "INNER JOIN `prod-organize-arizon-4e1c0a83.rich_christina_proj.catalist_pctnum_crosswalk_native` AS c\n",
        "  ON d.uniqueprecinctcode = c.uniqueprecinctcode\n",
        "\n",
        "WHERE sq.Cycle ='2024'\n",
        "\tAND c.county in ('COCONINO','COCHISE','MOHAVE','PINAL','PIMA','YAVAPAI','YUMA')\n",
        "\n",
        "GROUP BY 1,2,3,4,5,6\n",
        "ORDER BY 1\n",
        "\"\"\"\n",
        "\n",
        "df = client.query(query).to_dataframe()"
      ],
      "metadata": {
        "id": "jhNU24lvboJ6"
      },
      "execution_count": null,
      "outputs": []
    },
    {
      "cell_type": "code",
      "source": [
        "df.head()"
      ],
      "metadata": {
        "id": "mSwePryqbtMi"
      },
      "execution_count": null,
      "outputs": []
    },
    {
      "cell_type": "code",
      "source": [
        "# Prep data to send results back to project dataset\n",
        "# Combine question and response into one column for pivoting\n",
        "df['question_response'] = df['SurveyQuestionName'] + ' — ' + df['SurveyResponseName']\n",
        "\n",
        "# Pivot\n",
        "pivot_df = df.pivot_table(\n",
        "    index=['pctnum', 'county', 'congressionaldistrict', 'statehousedistrict'],\n",
        "    columns='question_response',\n",
        "    values='response_count',\n",
        "    fill_value=0\n",
        ").astype(int).reset_index()\n",
        "\n",
        "# Sanitize column names for BigQuery\n",
        "pivot_df.columns = (\n",
        "    pivot_df.columns\n",
        "    .str.replace(r'[^\\w]+', '_', regex=True)  # Replace anything not a-zA-Z0-9_ with _\n",
        "    .str.strip('_')                          # Remove leading/trailing _\n",
        "    .str.lower()                             # Optional: lowercase\n",
        ")\n",
        "\n",
        "pivot_df.head()"
      ],
      "metadata": {
        "id": "axf7eQtibwLa"
      },
      "execution_count": null,
      "outputs": []
    },
    {
      "cell_type": "code",
      "source": [
        "from pandas_gbq import to_gbq\n",
        "\n",
        "to_gbq(\n",
        "    pivot_df,\n",
        "    destination_table=\"rich_christina_proj.gotvid_counts_pivot\",\n",
        "    project_id=\"prod-organize-arizon-4e1c0a83\",\n",
        "    if_exists='replace'\n",
        ")\n"
      ],
      "metadata": {
        "id": "a2V0Ls4mbzhf"
      },
      "execution_count": null,
      "outputs": []
    }
  ]
}